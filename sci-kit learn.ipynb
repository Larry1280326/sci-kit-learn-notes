{
 "cells": [
  {
   "cell_type": "markdown",
   "metadata": {},
   "source": [
    "# Sci-kit Learn Basics"
   ]
  },
  {
   "cell_type": "markdown",
   "metadata": {},
   "source": [
    "### Import all the required modules"
   ]
  },
  {
   "cell_type": "code",
   "execution_count": 9,
   "metadata": {},
   "outputs": [],
   "source": [
    "import numpy as np\n",
    "from sklearn import preprocessing "
   ]
  },
  {
   "cell_type": "markdown",
   "metadata": {},
   "source": [
    "### Binarization"
   ]
  },
  {
   "cell_type": "code",
   "execution_count": 10,
   "metadata": {},
   "outputs": [
    {
     "name": "stdout",
     "output_type": "stream",
     "text": [
      "\n",
      "Binarized data:\n",
      " [[1. 0. 1.]\n",
      " [0. 1. 0.]\n",
      " [1. 0. 0.]\n",
      " [1. 0. 0.]]\n"
     ]
    }
   ],
   "source": [
    "input_data = np.array([[5.1, -2.9, 3.3], \n",
    "                       [-1.2, 7.8, -6.1], \n",
    "                       [3.9, 0.4, 2.1], \n",
    "                       [7.3, -9.9, -4.5]]) \n",
    "# Binarize data  \n",
    "data_binarized = preprocessing.Binarizer(threshold=2.1).transform(input_data) \n",
    "print(\"\\nBinarized data:\\n\", data_binarized) "
   ]
  },
  {
   "cell_type": "markdown",
   "metadata": {},
   "source": [
    "`preprocessing.Binarizer(threshold=2.1).transform(input_data)` passes all the elements in the array `input_data` into the function $$f(x) = \\begin{cases} 1.0 \\text{ if } x \\geq 2.1 \\\\ 0.0 \\text{ otherwise}  \\end{cases}$$"
   ]
  },
  {
   "cell_type": "markdown",
   "metadata": {},
   "source": [
    "### Normalization"
   ]
  },
  {
   "cell_type": "code",
   "execution_count": 11,
   "metadata": {},
   "outputs": [
    {
     "name": "stdout",
     "output_type": "stream",
     "text": [
      "\n",
      "BEFORE:\n",
      "Mean = [ 3.775 -1.15  -1.3  ]\n",
      "Std deviation = [3.12039661 6.36651396 4.0620192 ]\n",
      "\n",
      " Before Normalizaion: \n",
      " [[ 5.1 -2.9  3.3]\n",
      " [-1.2  7.8 -6.1]\n",
      " [ 3.9  0.4  2.1]\n",
      " [ 7.3 -9.9 -4.5]]\n",
      "\n",
      "AFTER:\n",
      "Mean = [1.11022302e-16 0.00000000e+00 2.77555756e-17]\n",
      "Std deviation = [1. 1. 1.]\n",
      "\n",
      "Normalized data: \n",
      " [[ 0.42462551 -0.2748757   1.13244172]\n",
      " [-1.59434861  1.40579288 -1.18167831]\n",
      " [ 0.04005901  0.24346134  0.83702214]\n",
      " [ 1.12966409 -1.37437851 -0.78778554]]\n"
     ]
    }
   ],
   "source": [
    "input_data = np.array([[5.1, -2.9, 3.3], \n",
    "                       [-1.2, 7.8, -6.1], \n",
    "                       [3.9, 0.4, 2.1], \n",
    "                       [7.3, -9.9, -4.5]]) \n",
    "# Print mean and standard deviation \n",
    "print(\"\\nBEFORE:\") \n",
    "print(\"Mean =\", input_data.mean(axis=0)) \n",
    "print(\"Std deviation =\", input_data.std(axis=0)) \n",
    "\n",
    "print(\"\\n Before Normalizaion: \\n\", input_data)\n",
    "\n",
    "# Remove mean \n",
    "data_scaled = preprocessing.scale(input_data) \n",
    "print(\"\\nAFTER:\") \n",
    "print(\"Mean =\", data_scaled.mean(axis=0)) \n",
    "print(\"Std deviation =\", data_scaled.std(axis=0)) \n",
    "\n",
    "print(\"\\nNormalized data: \\n\",data_scaled)"
   ]
  },
  {
   "cell_type": "code",
   "execution_count": 12,
   "metadata": {},
   "outputs": [
    {
     "name": "stdout",
     "output_type": "stream",
     "text": [
      "Mean = [1.11022302e-16 0.00000000e+00 2.77555756e-17]\n",
      "Std deviation = [1. 1. 1.]\n",
      "\n",
      "Normalized data: \n",
      " [[ 0.42462551 -0.2748757   1.13244172]\n",
      " [-1.59434861  1.40579288 -1.18167831]\n",
      " [ 0.04005901  0.24346134  0.83702214]\n",
      " [ 1.12966409 -1.37437851 -0.78778554]]\n"
     ]
    }
   ],
   "source": [
    "## numpy equivalence\n",
    "mean = np.mean(input_data, axis= 0)\n",
    "sd = np.std(input_data, axis=0)\n",
    "\n",
    "processed = (input_data - mean)/(sd)\n",
    "print(\"Mean =\", processed.mean(axis=0)) \n",
    "print(\"Std deviation =\", processed.std(axis=0)) \n",
    "print(\"\\nNormalized data: \\n\",processed)\n"
   ]
  }
 ],
 "metadata": {
  "kernelspec": {
   "display_name": "base",
   "language": "python",
   "name": "python3"
  },
  "language_info": {
   "codemirror_mode": {
    "name": "ipython",
    "version": 3
   },
   "file_extension": ".py",
   "mimetype": "text/x-python",
   "name": "python",
   "nbconvert_exporter": "python",
   "pygments_lexer": "ipython3",
   "version": "3.11.8"
  }
 },
 "nbformat": 4,
 "nbformat_minor": 2
}
